{
 "cells": [
  {
   "cell_type": "code",
   "execution_count": 51,
   "metadata": {},
   "outputs": [
    {
     "name": "stdout",
     "output_type": "stream",
     "text": [
      "<div class=\"tombstone-container\">\n",
      " <p class=\"period-name\">\n",
      "  Tonight\n",
      "  <br/>\n",
      "  <br/>\n",
      " </p>\n",
      " <p>\n",
      "  <img alt=\"Tonight: Showers, mainly before 10pm.  Low around 53. East wind around 7 mph becoming north northwest in the evening.  Chance of precipitation is 90%. New precipitation amounts of less than a tenth of an inch possible. \" class=\"forecast-icon\" src=\"DualImage.php?i=nshra&amp;j=nshra&amp;ip=90&amp;jp=50\" title=\"Tonight: Showers, mainly before 10pm.  Low around 53. East wind around 7 mph becoming north northwest in the evening.  Chance of precipitation is 90%. New precipitation amounts of less than a tenth of an inch possible. \"/>\n",
      " </p>\n",
      " <p class=\"short-desc\">\n",
      "  Showers then\n",
      "  <br/>\n",
      "  Chance\n",
      "  <br/>\n",
      "  Showers\n",
      " </p>\n",
      " <p class=\"temp temp-low\">\n",
      "  Low: 53 °F\n",
      " </p>\n",
      "</div>\n"
     ]
    }
   ],
   "source": [
    "#first select the url of page you want to scrap data form\n",
    "weatherPage=requests.get('http://forecast.weather.gov/MapClick.php?lat=37.7772&lon=-122.4168#.Wk2qhN-WbIU')\n",
    "#creating a BeautifulSoup instance for scrapping\n",
    "weatherSoup=BeautifulSoup(weatherPage.content,'html.parser')\n",
    "\n",
    "#get data of the html element by id\n",
    "sevenDay=weatherSoup.find(id='seven-day-forecast')\n",
    "#get data of the html element by class\n",
    "forecastItem=sevenDay.find_all(class_='tombstone-container')\n",
    "forecastItem\n",
    "tonightWeather=forecastItem[0]\n",
    "print(tonightWeather.prettify())"
   ]
  },
  {
   "cell_type": "code",
   "execution_count": 54,
   "metadata": {},
   "outputs": [],
   "source": [
    "peroid=tonightWeather.find(class_='period-name').get_text()\n",
    "shortDesc=tonightWeather.find(class_='short-desc').get_text()\n",
    "temp=tonightWeather.find(class_='temp').get_text()"
   ]
  },
  {
   "cell_type": "code",
   "execution_count": 55,
   "metadata": {},
   "outputs": [
    {
     "name": "stdout",
     "output_type": "stream",
     "text": [
      "Tonight\n",
      "Showers thenChanceShowers\n",
      "Low: 53 °F\n"
     ]
    }
   ],
   "source": [
    "print(peroid)\n",
    "print(shortDesc)\n",
    "print(temp)"
   ]
  },
  {
   "cell_type": "code",
   "execution_count": 58,
   "metadata": {},
   "outputs": [
    {
     "name": "stdout",
     "output_type": "stream",
     "text": [
      "Tonight: Showers, mainly before 10pm.  Low around 53. East wind around 7 mph becoming north northwest in the evening.  Chance of precipitation is 90%. New precipitation amounts of less than a tenth of an inch possible. \n"
     ]
    }
   ],
   "source": [
    "img=tonightWeather.find('img')\n",
    "description=img['title']\n",
    "print(description)"
   ]
  },
  {
   "cell_type": "code",
   "execution_count": 67,
   "metadata": {},
   "outputs": [
    {
     "data": {
      "text/plain": [
       "['Tonight',\n",
       " 'Thursday',\n",
       " 'ThursdayNight',\n",
       " 'Friday',\n",
       " 'FridayNight',\n",
       " 'Saturday',\n",
       " 'SaturdayNight',\n",
       " 'Sunday',\n",
       " 'SundayNight']"
      ]
     },
     "execution_count": 67,
     "metadata": {},
     "output_type": "execute_result"
    }
   ],
   "source": [
    "peroid_tags=sevenDay.select(\".tombstone-container .period-name\")\n",
    "peroids=[p.get_text() for p in peroid_tags]\n",
    "peroids"
   ]
  },
  {
   "cell_type": "code",
   "execution_count": 70,
   "metadata": {},
   "outputs": [
    {
     "data": {
      "text/plain": [
       "['Showers thenChanceShowers',\n",
       " 'Chance Rain',\n",
       " 'Heavy Rain',\n",
       " 'Rain Likelythen SlightChance Rain',\n",
       " 'Mostly Cloudy',\n",
       " 'Mostly Sunny',\n",
       " 'Partly Cloudy',\n",
       " 'Partly Sunny',\n",
       " 'Mostly Cloudy']"
      ]
     },
     "execution_count": 70,
     "metadata": {},
     "output_type": "execute_result"
    }
   ],
   "source": [
    "descriptions=sevenDay.select('.tombstone-container .short-desc')\n",
    "allDesc=[des.get_text() for des in descriptions]\n",
    "allDesc"
   ]
  },
  {
   "cell_type": "code",
   "execution_count": 77,
   "metadata": {},
   "outputs": [
    {
     "data": {
      "text/plain": [
       "['Tonight: Showers, mainly before 10pm.  Low around 53. East wind around 7 mph becoming north northwest in the evening.  Chance of precipitation is 90%. New precipitation amounts of less than a tenth of an inch possible. ',\n",
       " 'Thursday: A slight chance of showers before 4pm, then a chance of rain after 4pm.  Mostly cloudy, with a high near 62. South wind 8 to 13 mph.  Chance of precipitation is 30%. New precipitation amounts of less than a tenth of an inch possible. ',\n",
       " 'Thursday Night: Rain likely, mainly after 10pm. The rain could be heavy at times.  Mostly cloudy, with a low around 53. South wind 13 to 18 mph, with gusts as high as 24 mph.  Chance of precipitation is 70%. New precipitation amounts between a quarter and half of an inch possible. ',\n",
       " 'Friday: Rain likely, mainly before 10am.  Mostly cloudy, with a high near 59. South wind around 16 mph, with gusts as high as 22 mph.  Chance of precipitation is 60%. New precipitation amounts of less than a tenth of an inch possible. ',\n",
       " 'Friday Night: Mostly cloudy, with a low around 49. West wind 9 to 11 mph. ',\n",
       " 'Saturday: Mostly sunny, with a high near 57.',\n",
       " 'Saturday Night: Partly cloudy, with a low around 48.',\n",
       " 'Sunday: Partly sunny, with a high near 57.',\n",
       " 'Sunday Night: Mostly cloudy, with a low around 48.']"
      ]
     },
     "execution_count": 77,
     "metadata": {},
     "output_type": "execute_result"
    }
   ],
   "source": [
    "tempratures=sevenDay.select('.tombstone-container .temp')\n",
    "alltemp=[temp.get_text() for temp in tempratures]\n",
    "alldescriptions=sevenDay.select('.tombstone-container .img')\n",
    "desc=[d['title'] for d in alldescriptions]\n",
    "dataW=[d[\"title\"] for d in seven_day.select(\".tombstone-container img\")]\n",
    "dataW"
   ]
  },
  {
   "cell_type": "code",
   "execution_count": 78,
   "metadata": {},
   "outputs": [
    {
     "name": "stdout",
     "output_type": "stream",
     "text": [
      "['Tonight', 'Thursday', 'ThursdayNight', 'Friday', 'FridayNight', 'Saturday', 'SaturdayNight', 'Sunday', 'SundayNight']\n",
      "['Showers thenChanceShowers', 'Chance Rain', 'Heavy Rain', 'Rain Likelythen SlightChance Rain', 'Mostly Cloudy', 'Mostly Sunny', 'Partly Cloudy', 'Partly Sunny', 'Mostly Cloudy']\n",
      "['Low: 53 °F', 'High: 62 °F', 'Low: 53 °F', 'High: 59 °F', 'Low: 49 °F', 'High: 57 °F', 'Low: 48 °F', 'High: 57 °F', 'Low: 48 °F']\n",
      "['Tonight: Showers, mainly before 10pm.  Low around 53. East wind around 7 mph becoming north northwest in the evening.  Chance of precipitation is 90%. New precipitation amounts of less than a tenth of an inch possible. ', 'Thursday: A slight chance of showers before 4pm, then a chance of rain after 4pm.  Mostly cloudy, with a high near 62. South wind 8 to 13 mph.  Chance of precipitation is 30%. New precipitation amounts of less than a tenth of an inch possible. ', 'Thursday Night: Rain likely, mainly after 10pm. The rain could be heavy at times.  Mostly cloudy, with a low around 53. South wind 13 to 18 mph, with gusts as high as 24 mph.  Chance of precipitation is 70%. New precipitation amounts between a quarter and half of an inch possible. ', 'Friday: Rain likely, mainly before 10am.  Mostly cloudy, with a high near 59. South wind around 16 mph, with gusts as high as 22 mph.  Chance of precipitation is 60%. New precipitation amounts of less than a tenth of an inch possible. ', 'Friday Night: Mostly cloudy, with a low around 49. West wind 9 to 11 mph. ', 'Saturday: Mostly sunny, with a high near 57.', 'Saturday Night: Partly cloudy, with a low around 48.', 'Sunday: Partly sunny, with a high near 57.', 'Sunday Night: Mostly cloudy, with a low around 48.']\n"
     ]
    }
   ],
   "source": [
    "print(peroids)\n",
    "print(allDesc)\n",
    "print(alltemp)\n",
    "print(dataW)"
   ]
  },
  {
   "cell_type": "code",
   "execution_count": 79,
   "metadata": {
    "collapsed": true
   },
   "outputs": [],
   "source": [
    "import pandas as pd\n",
    "weather=pd.DataFrame({\n",
    "    'Peroids':peroids,\n",
    "    'Short-Desc':allDesc,\n",
    "    'Temprature':alltemp,\n",
    "    'Description':dataW\n",
    "})"
   ]
  },
  {
   "cell_type": "code",
   "execution_count": 80,
   "metadata": {},
   "outputs": [
    {
     "data": {
      "text/html": [
       "<div>\n",
       "<style>\n",
       "    .dataframe thead tr:only-child th {\n",
       "        text-align: right;\n",
       "    }\n",
       "\n",
       "    .dataframe thead th {\n",
       "        text-align: left;\n",
       "    }\n",
       "\n",
       "    .dataframe tbody tr th {\n",
       "        vertical-align: top;\n",
       "    }\n",
       "</style>\n",
       "<table border=\"1\" class=\"dataframe\">\n",
       "  <thead>\n",
       "    <tr style=\"text-align: right;\">\n",
       "      <th></th>\n",
       "      <th>Description</th>\n",
       "      <th>Peroids</th>\n",
       "      <th>Short-Desc</th>\n",
       "      <th>Temprature</th>\n",
       "    </tr>\n",
       "  </thead>\n",
       "  <tbody>\n",
       "    <tr>\n",
       "      <th>0</th>\n",
       "      <td>Tonight: Showers, mainly before 10pm.  Low aro...</td>\n",
       "      <td>Tonight</td>\n",
       "      <td>Showers thenChanceShowers</td>\n",
       "      <td>Low: 53 °F</td>\n",
       "    </tr>\n",
       "    <tr>\n",
       "      <th>1</th>\n",
       "      <td>Thursday: A slight chance of showers before 4p...</td>\n",
       "      <td>Thursday</td>\n",
       "      <td>Chance Rain</td>\n",
       "      <td>High: 62 °F</td>\n",
       "    </tr>\n",
       "    <tr>\n",
       "      <th>2</th>\n",
       "      <td>Thursday Night: Rain likely, mainly after 10pm...</td>\n",
       "      <td>ThursdayNight</td>\n",
       "      <td>Heavy Rain</td>\n",
       "      <td>Low: 53 °F</td>\n",
       "    </tr>\n",
       "    <tr>\n",
       "      <th>3</th>\n",
       "      <td>Friday: Rain likely, mainly before 10am.  Most...</td>\n",
       "      <td>Friday</td>\n",
       "      <td>Rain Likelythen SlightChance Rain</td>\n",
       "      <td>High: 59 °F</td>\n",
       "    </tr>\n",
       "    <tr>\n",
       "      <th>4</th>\n",
       "      <td>Friday Night: Mostly cloudy, with a low around...</td>\n",
       "      <td>FridayNight</td>\n",
       "      <td>Mostly Cloudy</td>\n",
       "      <td>Low: 49 °F</td>\n",
       "    </tr>\n",
       "    <tr>\n",
       "      <th>5</th>\n",
       "      <td>Saturday: Mostly sunny, with a high near 57.</td>\n",
       "      <td>Saturday</td>\n",
       "      <td>Mostly Sunny</td>\n",
       "      <td>High: 57 °F</td>\n",
       "    </tr>\n",
       "    <tr>\n",
       "      <th>6</th>\n",
       "      <td>Saturday Night: Partly cloudy, with a low arou...</td>\n",
       "      <td>SaturdayNight</td>\n",
       "      <td>Partly Cloudy</td>\n",
       "      <td>Low: 48 °F</td>\n",
       "    </tr>\n",
       "    <tr>\n",
       "      <th>7</th>\n",
       "      <td>Sunday: Partly sunny, with a high near 57.</td>\n",
       "      <td>Sunday</td>\n",
       "      <td>Partly Sunny</td>\n",
       "      <td>High: 57 °F</td>\n",
       "    </tr>\n",
       "    <tr>\n",
       "      <th>8</th>\n",
       "      <td>Sunday Night: Mostly cloudy, with a low around...</td>\n",
       "      <td>SundayNight</td>\n",
       "      <td>Mostly Cloudy</td>\n",
       "      <td>Low: 48 °F</td>\n",
       "    </tr>\n",
       "  </tbody>\n",
       "</table>\n",
       "</div>"
      ],
      "text/plain": [
       "                                         Description        Peroids  \\\n",
       "0  Tonight: Showers, mainly before 10pm.  Low aro...        Tonight   \n",
       "1  Thursday: A slight chance of showers before 4p...       Thursday   \n",
       "2  Thursday Night: Rain likely, mainly after 10pm...  ThursdayNight   \n",
       "3  Friday: Rain likely, mainly before 10am.  Most...         Friday   \n",
       "4  Friday Night: Mostly cloudy, with a low around...    FridayNight   \n",
       "5       Saturday: Mostly sunny, with a high near 57.       Saturday   \n",
       "6  Saturday Night: Partly cloudy, with a low arou...  SaturdayNight   \n",
       "7         Sunday: Partly sunny, with a high near 57.         Sunday   \n",
       "8  Sunday Night: Mostly cloudy, with a low around...    SundayNight   \n",
       "\n",
       "                          Short-Desc   Temprature  \n",
       "0          Showers thenChanceShowers   Low: 53 °F  \n",
       "1                        Chance Rain  High: 62 °F  \n",
       "2                         Heavy Rain   Low: 53 °F  \n",
       "3  Rain Likelythen SlightChance Rain  High: 59 °F  \n",
       "4                      Mostly Cloudy   Low: 49 °F  \n",
       "5                       Mostly Sunny  High: 57 °F  \n",
       "6                      Partly Cloudy   Low: 48 °F  \n",
       "7                       Partly Sunny  High: 57 °F  \n",
       "8                      Mostly Cloudy   Low: 48 °F  "
      ]
     },
     "execution_count": 80,
     "metadata": {},
     "output_type": "execute_result"
    }
   ],
   "source": [
    "weather"
   ]
  },
  {
   "cell_type": "code",
   "execution_count": 87,
   "metadata": {},
   "outputs": [],
   "source": [
    "writer=pd.ExcelWriter('weatherData.xlsx')\n",
    "weather.to_excel(writer,'Sheet1')\n",
    "writer.save()"
   ]
  },
  {
   "cell_type": "code",
   "execution_count": 85,
   "metadata": {
    "scrolled": true
   },
   "outputs": [
    {
     "data": {
      "text/html": [
       "<div>\n",
       "<style>\n",
       "    .dataframe thead tr:only-child th {\n",
       "        text-align: right;\n",
       "    }\n",
       "\n",
       "    .dataframe thead th {\n",
       "        text-align: left;\n",
       "    }\n",
       "\n",
       "    .dataframe tbody tr th {\n",
       "        vertical-align: top;\n",
       "    }\n",
       "</style>\n",
       "<table border=\"1\" class=\"dataframe\">\n",
       "  <thead>\n",
       "    <tr style=\"text-align: right;\">\n",
       "      <th></th>\n",
       "      <th>Description</th>\n",
       "      <th>Peroids</th>\n",
       "      <th>Short-Desc</th>\n",
       "      <th>Temprature</th>\n",
       "    </tr>\n",
       "  </thead>\n",
       "  <tbody>\n",
       "    <tr>\n",
       "      <th>0</th>\n",
       "      <td>Tonight: Showers, mainly before 10pm.  Low aro...</td>\n",
       "      <td>Tonight</td>\n",
       "      <td>Showers thenChanceShowers</td>\n",
       "      <td>Low: 53 °F</td>\n",
       "    </tr>\n",
       "    <tr>\n",
       "      <th>1</th>\n",
       "      <td>Thursday: A slight chance of showers before 4p...</td>\n",
       "      <td>Thursday</td>\n",
       "      <td>Chance Rain</td>\n",
       "      <td>High: 62 °F</td>\n",
       "    </tr>\n",
       "    <tr>\n",
       "      <th>2</th>\n",
       "      <td>Thursday Night: Rain likely, mainly after 10pm...</td>\n",
       "      <td>ThursdayNight</td>\n",
       "      <td>Heavy Rain</td>\n",
       "      <td>Low: 53 °F</td>\n",
       "    </tr>\n",
       "    <tr>\n",
       "      <th>3</th>\n",
       "      <td>Friday: Rain likely, mainly before 10am.  Most...</td>\n",
       "      <td>Friday</td>\n",
       "      <td>Rain Likelythen SlightChance Rain</td>\n",
       "      <td>High: 59 °F</td>\n",
       "    </tr>\n",
       "    <tr>\n",
       "      <th>4</th>\n",
       "      <td>Friday Night: Mostly cloudy, with a low around...</td>\n",
       "      <td>FridayNight</td>\n",
       "      <td>Mostly Cloudy</td>\n",
       "      <td>Low: 49 °F</td>\n",
       "    </tr>\n",
       "    <tr>\n",
       "      <th>5</th>\n",
       "      <td>Saturday: Mostly sunny, with a high near 57.</td>\n",
       "      <td>Saturday</td>\n",
       "      <td>Mostly Sunny</td>\n",
       "      <td>High: 57 °F</td>\n",
       "    </tr>\n",
       "    <tr>\n",
       "      <th>6</th>\n",
       "      <td>Saturday Night: Partly cloudy, with a low arou...</td>\n",
       "      <td>SaturdayNight</td>\n",
       "      <td>Partly Cloudy</td>\n",
       "      <td>Low: 48 °F</td>\n",
       "    </tr>\n",
       "    <tr>\n",
       "      <th>7</th>\n",
       "      <td>Sunday: Partly sunny, with a high near 57.</td>\n",
       "      <td>Sunday</td>\n",
       "      <td>Partly Sunny</td>\n",
       "      <td>High: 57 °F</td>\n",
       "    </tr>\n",
       "    <tr>\n",
       "      <th>8</th>\n",
       "      <td>Sunday Night: Mostly cloudy, with a low around...</td>\n",
       "      <td>SundayNight</td>\n",
       "      <td>Mostly Cloudy</td>\n",
       "      <td>Low: 48 °F</td>\n",
       "    </tr>\n",
       "  </tbody>\n",
       "</table>\n",
       "</div>"
      ],
      "text/plain": [
       "                                         Description        Peroids  \\\n",
       "0  Tonight: Showers, mainly before 10pm.  Low aro...        Tonight   \n",
       "1  Thursday: A slight chance of showers before 4p...       Thursday   \n",
       "2  Thursday Night: Rain likely, mainly after 10pm...  ThursdayNight   \n",
       "3  Friday: Rain likely, mainly before 10am.  Most...         Friday   \n",
       "4  Friday Night: Mostly cloudy, with a low around...    FridayNight   \n",
       "5       Saturday: Mostly sunny, with a high near 57.       Saturday   \n",
       "6  Saturday Night: Partly cloudy, with a low arou...  SaturdayNight   \n",
       "7         Sunday: Partly sunny, with a high near 57.         Sunday   \n",
       "8  Sunday Night: Mostly cloudy, with a low around...    SundayNight   \n",
       "\n",
       "                          Short-Desc   Temprature  \n",
       "0          Showers thenChanceShowers   Low: 53 °F  \n",
       "1                        Chance Rain  High: 62 °F  \n",
       "2                         Heavy Rain   Low: 53 °F  \n",
       "3  Rain Likelythen SlightChance Rain  High: 59 °F  \n",
       "4                      Mostly Cloudy   Low: 49 °F  \n",
       "5                       Mostly Sunny  High: 57 °F  \n",
       "6                      Partly Cloudy   Low: 48 °F  \n",
       "7                       Partly Sunny  High: 57 °F  \n",
       "8                      Mostly Cloudy   Low: 48 °F  "
      ]
     },
     "execution_count": 85,
     "metadata": {},
     "output_type": "execute_result"
    }
   ],
   "source": [
    "data=pd.read_excel('weatherData.xlsx')\n",
    "data"
   ]
  },
  {
   "cell_type": "code",
   "execution_count": null,
   "metadata": {
    "collapsed": true
   },
   "outputs": [],
   "source": []
  }
 ],
 "metadata": {
  "kernelspec": {
   "display_name": "Python 3",
   "language": "python",
   "name": "python3"
  },
  "language_info": {
   "codemirror_mode": {
    "name": "ipython",
    "version": 3
   },
   "file_extension": ".py",
   "mimetype": "text/x-python",
   "name": "python",
   "nbconvert_exporter": "python",
   "pygments_lexer": "ipython3",
   "version": "3.6.1"
  }
 },
 "nbformat": 4,
 "nbformat_minor": 2
}
